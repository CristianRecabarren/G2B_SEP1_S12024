{
 "cells": [
  {
   "cell_type": "code",
   "execution_count": 10,
   "metadata": {},
   "outputs": [],
   "source": [
    "\n",
    "#Codigo nuevo\n",
    "import numpy\n",
    "import scipy\n",
    "import numba\n",
    "import matplotlib\n",
    "import pandapower as pp\n",
    "import pandapower.networks\n",
    "import pandapower.topology\n",
    "import pandapower.plotting\n",
    "import pandapower.converter\n",
    "import pandapower.estimation\n",
    "#Crear red vacia (net)\n",
    "net = pp.create_empty_network()\n",
    "#Crear barras\n",
    "b1 = pp.create_bus(net, vn_kv=20., name=\"Bus 1\")\n",
    "b2 = pp.create_bus(net, vn_kv=0.4, name=\"Bus 2\")\n",
    "pp.create_ext_grid(net, bus=b1, vm_pu=1, name=\"Conexion de malla\");\n",
    "pp.create_load(net, bus=b2, p_mw=0.999877, q_mvar=0.015707, name=\"Carga\");\n",
    "#Crear linea\n",
    "pp.create_line_from_parameters(net, from_bus=b1, to_bus=b2, length_km=500, r_ohm_per_km=0.02, x_ohm_per_km=0.115, c_nf_per_km=19.1, max_i_ka=1)\n",
    "pp.runpp(net)\n",
    "\n"
   ]
  },
  {
   "cell_type": "code",
   "execution_count": 11,
   "metadata": {},
   "outputs": [
    {
     "name": "stdout",
     "output_type": "stream",
     "text": [
      "Matriz ABCD:\n",
      "[[ 9.14939702e-01+1.45734594e-02j  9.43228339e+00+5.59096754e+01j]\n",
      " [-1.47449763e-05+2.91467707e-03j  9.14939702e-01+1.45734594e-02j]]\n"
     ]
    }
   ],
   "source": [
    "import numpy as np\n",
    "import cmath\n",
    "\n",
    "# Parámetros de la línea\n",
    "r = 0.02  # resistencia por km\n",
    "x = 0.115  # reactancia por km\n",
    "c = 19.1 * 1e-9  # capacitancia por km en faradios\n",
    "l = 500  # longitud de la línea en km\n",
    "f = 50  # frecuencia en Hz\n",
    "\n",
    "# Convertir la capacitancia a la admitancia\n",
    "omega = 2 * np.pi * f\n",
    "y = 1j * omega * c\n",
    "\n",
    "# Parámetros de la línea por unidad de longitud\n",
    "Z = r + 1j * x\n",
    "Y = y\n",
    "\n",
    "# Parámetros de la línea total\n",
    "Z_total = Z * l\n",
    "Y_total = Y * l\n",
    "\n",
    "# Cálculo de los parámetros ABCD para una línea larga\n",
    "gamma = cmath.sqrt(Z_total * Y_total)\n",
    "Zc = cmath.sqrt(Z_total / Y_total)\n",
    "\n",
    "A = cmath.cosh(gamma)\n",
    "B = Zc * cmath.sinh(gamma)\n",
    "C = (1 / Zc) * cmath.sinh(gamma)\n",
    "D = A\n",
    "\n",
    "# Creación de la matriz ABCD\n",
    "ABCD = np.array([[A, B], [C, D]])\n",
    "\n",
    "print(\"Matriz ABCD:\")\n",
    "print(ABCD)"
   ]
  },
  {
   "cell_type": "code",
   "execution_count": 12,
   "metadata": {},
   "outputs": [
    {
     "data": {
      "text/html": [
       "<div>\n",
       "<style scoped>\n",
       "    .dataframe tbody tr th:only-of-type {\n",
       "        vertical-align: middle;\n",
       "    }\n",
       "\n",
       "    .dataframe tbody tr th {\n",
       "        vertical-align: top;\n",
       "    }\n",
       "\n",
       "    .dataframe thead th {\n",
       "        text-align: right;\n",
       "    }\n",
       "</style>\n",
       "<table border=\"1\" class=\"dataframe\">\n",
       "  <thead>\n",
       "    <tr style=\"text-align: right;\">\n",
       "      <th></th>\n",
       "      <th>vm_pu</th>\n",
       "      <th>va_degree</th>\n",
       "      <th>p_mw</th>\n",
       "      <th>q_mvar</th>\n",
       "    </tr>\n",
       "  </thead>\n",
       "  <tbody>\n",
       "    <tr>\n",
       "      <th>0</th>\n",
       "      <td>1.000000</td>\n",
       "      <td>0.000000</td>\n",
       "      <td>-1.031924</td>\n",
       "      <td>1.065891</td>\n",
       "    </tr>\n",
       "    <tr>\n",
       "      <th>1</th>\n",
       "      <td>1.053387</td>\n",
       "      <td>-8.735714</td>\n",
       "      <td>0.999877</td>\n",
       "      <td>0.015707</td>\n",
       "    </tr>\n",
       "  </tbody>\n",
       "</table>\n",
       "</div>"
      ],
      "text/plain": [
       "      vm_pu  va_degree      p_mw    q_mvar\n",
       "0  1.000000   0.000000 -1.031924  1.065891\n",
       "1  1.053387  -8.735714  0.999877  0.015707"
      ]
     },
     "execution_count": 12,
     "metadata": {},
     "output_type": "execute_result"
    }
   ],
   "source": [
    "#Visualizar\n",
    "net.res_bus #Visualizar resultados de barras\n"
   ]
  },
  {
   "cell_type": "code",
   "execution_count": 13,
   "metadata": {},
   "outputs": [
    {
     "data": {
      "text/html": [
       "<div>\n",
       "<style scoped>\n",
       "    .dataframe tbody tr th:only-of-type {\n",
       "        vertical-align: middle;\n",
       "    }\n",
       "\n",
       "    .dataframe tbody tr th {\n",
       "        vertical-align: top;\n",
       "    }\n",
       "\n",
       "    .dataframe thead th {\n",
       "        text-align: right;\n",
       "    }\n",
       "</style>\n",
       "<table border=\"1\" class=\"dataframe\">\n",
       "  <thead>\n",
       "    <tr style=\"text-align: right;\">\n",
       "      <th></th>\n",
       "      <th>p_from_mw</th>\n",
       "      <th>q_from_mvar</th>\n",
       "      <th>p_to_mw</th>\n",
       "      <th>q_to_mvar</th>\n",
       "      <th>pl_mw</th>\n",
       "      <th>ql_mvar</th>\n",
       "      <th>i_from_ka</th>\n",
       "      <th>i_to_ka</th>\n",
       "      <th>i_ka</th>\n",
       "      <th>vm_from_pu</th>\n",
       "      <th>va_from_degree</th>\n",
       "      <th>vm_to_pu</th>\n",
       "      <th>va_to_degree</th>\n",
       "      <th>loading_percent</th>\n",
       "    </tr>\n",
       "  </thead>\n",
       "  <tbody>\n",
       "    <tr>\n",
       "      <th>0</th>\n",
       "      <td>1.031924</td>\n",
       "      <td>-1.065891</td>\n",
       "      <td>-0.999877</td>\n",
       "      <td>-0.015707</td>\n",
       "      <td>0.032047</td>\n",
       "      <td>-1.081598</td>\n",
       "      <td>0.042827</td>\n",
       "      <td>1.370224</td>\n",
       "      <td>1.370224</td>\n",
       "      <td>1.0</td>\n",
       "      <td>0.0</td>\n",
       "      <td>1.053387</td>\n",
       "      <td>-8.735714</td>\n",
       "      <td>137.02237</td>\n",
       "    </tr>\n",
       "  </tbody>\n",
       "</table>\n",
       "</div>"
      ],
      "text/plain": [
       "   p_from_mw  q_from_mvar   p_to_mw  q_to_mvar     pl_mw   ql_mvar  i_from_ka  \\\n",
       "0   1.031924    -1.065891 -0.999877  -0.015707  0.032047 -1.081598   0.042827   \n",
       "\n",
       "    i_to_ka      i_ka  vm_from_pu  va_from_degree  vm_to_pu  va_to_degree  \\\n",
       "0  1.370224  1.370224         1.0             0.0  1.053387     -8.735714   \n",
       "\n",
       "   loading_percent  \n",
       "0        137.02237  "
      ]
     },
     "execution_count": 13,
     "metadata": {},
     "output_type": "execute_result"
    }
   ],
   "source": [
    "net.res_line #Visualizar resultados de lineas"
   ]
  }
 ],
 "metadata": {
  "kernelspec": {
   "display_name": "Python 3",
   "language": "python",
   "name": "python3"
  },
  "language_info": {
   "codemirror_mode": {
    "name": "ipython",
    "version": 3
   },
   "file_extension": ".py",
   "mimetype": "text/x-python",
   "name": "python",
   "nbconvert_exporter": "python",
   "pygments_lexer": "ipython3",
   "version": "3.12.3"
  }
 },
 "nbformat": 4,
 "nbformat_minor": 2
}
