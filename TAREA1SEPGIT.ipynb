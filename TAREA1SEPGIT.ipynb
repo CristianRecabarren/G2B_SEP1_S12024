{
 "cells": [
  {
   "cell_type": "code",
   "execution_count": null,
   "metadata": {},
   "outputs": [],
   "source": [
    "import numpy;\n",
    "import numba;\n",
    "import scipy;\n",
    "import matplotlib;\n",
    "import pandapower as pp;\n",
    "import pandapower.networks;\n",
    "import pandapower.topology;\n",
    "import pandapower.plotting;\n",
    "import pandapower.converter;\n",
    "import pandapower.estimation;\n",
    "\n"
   ]
  }
 ],
 "metadata": {
  "kernelspec": {
   "display_name": "Python 3",
   "language": "python",
   "name": "python3"
  },
  "language_info": {
   "name": "python",
   "version": "3.12.3"
  }
 },
 "nbformat": 4,
 "nbformat_minor": 2
}
