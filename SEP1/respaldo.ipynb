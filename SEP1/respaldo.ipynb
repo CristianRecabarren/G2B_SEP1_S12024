{
 "cells": [
  {
   "cell_type": "code",
   "execution_count": null,
   "metadata": {},
   "outputs": [],
   "source": [
    "#Codigo\n",
    "import numpy;\n",
    "import scipy;\n",
    "import numba;\n",
    "import matplotlib;\n",
    "import pandapower as pp;\n",
    "import pandapower.networks;\n",
    "import pandapower.topology;\n",
    "import pandapower.plotting;\n",
    "import pandapower.converter;\n",
    "import pandapower.estimation;\n",
    "#Crear red vacia (net)\n",
    "net = pp.create_empty_network()\n",
    "#Crear barras\n",
    "b1 = pp.create_bus(net, vn_kv=20., name=\"Bus 1\")\n",
    "b2 = pp.create_bus(net, vn_kv=0.4, name=\"Bus 2\")\n",
    "pp.create_ext_grid(net, bus=b1, vm_pu=1, name=\"Conexion de malla\");\n",
    "pp.create_load(net, bus=b2, p_mw=0.999877, q_mvar=0.015707, name=\"Carga\");\n",
    "#Crear linea\n",
    "pp.create_line_from_parameters(net, from_bus=b1, to_bus=b2, length_km=400, r_ohm_per_km=0.02, x_ohm_per_km=0.115, c_nf_per_km=19.1, max_i_ka=1)\n",
    "pp.runpp(net)\n",
    "#Visualizar\n",
    "net.res_bus #Visualizar resultados de barras\n",
    "net.res_line #Visualizar resultados de lineas"
   ]
  }
 ],
 "metadata": {
  "kernelspec": {
   "display_name": "Python 3",
   "language": "python",
   "name": "python3"
  },
  "language_info": {
   "name": "python",
   "version": "3.12.3"
  }
 },
 "nbformat": 4,
 "nbformat_minor": 2
}
